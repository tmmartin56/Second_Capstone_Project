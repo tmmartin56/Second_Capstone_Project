{
 "cells": [
  {
   "cell_type": "markdown",
   "metadata": {},
   "source": [
    "# Predicting Human Toll of Tornado Events\n",
    "\n",
    "## Capstone 1: Springboard Data Science Track\n",
    "\n",
    "## The Problem:\n",
    "Of all the forces mother nature can bring to bear on mankind, one of the most violent and unpredictable is the tornado. Meteorologists and Climatologists can spend their entire careers studying these destructive storms in an effort to improve warning lead-time and lessen the likelihood of loss of life. NOAA (the National Oceanic and Atmospheric Administration) has diligently collected data on all of the tornadoes impacting the United States in the last ~70 years, but can this basic data tell us anything about whether a given tornado, (defined by things like width, location, and duration) is likely to cause injuries or deaths? This is the question we'll seek to answer, and we'll do so by feeding our preprocessed tornado data into a series of predictive Machine Learning models."
   ]
  },
  {
   "cell_type": "markdown",
   "metadata": {},
   "source": [
    "First, we'll import all of the python libraries needed to power our models and compare their effectiveness."
   ]
  },
  {
   "cell_type": "code",
   "execution_count": 75,
   "metadata": {},
   "outputs": [],
   "source": [
    "import pandas as pd\n",
    "import numpy as np\n",
    "import seaborn as sns\n",
    "import matplotlib.pyplot as plt\n",
    "import os\n",
    "\n",
    "import warnings\n",
    "warnings.filterwarnings('ignore')\n",
    "\n",
    "from sklearn.model_selection import train_test_split\n",
    "from sklearn.model_selection import cross_val_score\n",
    "from sklearn.model_selection import validation_curve\n",
    "from sklearn.model_selection import RandomizedSearchCV\n",
    "\n",
    "from sklearn.metrics import confusion_matrix\n",
    "from sklearn.metrics import accuracy_score\n",
    "from sklearn.metrics import f1_score\n",
    "from sklearn.metrics import auc, roc_curve, roc_auc_score\n",
    "\n",
    "from sklearn.preprocessing import StandardScaler\n",
    "\n",
    "from sklearn.linear_model import LogisticRegression\n",
    "from sklearn.tree import DecisionTreeClassifier\n",
    "from sklearn.neighbors import KNeighborsClassifier\n",
    "from sklearn.svm import SVC\n",
    "from sklearn.ensemble import RandomForestClassifier\n",
    "from sklearn.ensemble import GradientBoostingClassifier"
   ]
  },
  {
   "cell_type": "markdown",
   "metadata": {},
   "source": [
    "Then we'll load and inspect the final dataset that we cleaned and analyzed in previous steps."
   ]
  },
  {
   "cell_type": "code",
   "execution_count": 36,
   "metadata": {},
   "outputs": [
    {
     "name": "stdout",
     "output_type": "stream",
     "text": [
      "<class 'pandas.core.frame.DataFrame'>\n",
      "RangeIndex: 25193 entries, 0 to 25192\n",
      "Data columns (total 28 columns):\n",
      " #   Column                  Non-Null Count  Dtype  \n",
      "---  ------                  --------------  -----  \n",
      " 0   Unnamed: 0              25193 non-null  int64  \n",
      " 1   inj                     25193 non-null  int64  \n",
      " 2   fat                     25193 non-null  int64  \n",
      " 3   yr                      25193 non-null  int64  \n",
      " 4   mo                      25193 non-null  int64  \n",
      " 5   mag                     25193 non-null  int64  \n",
      " 6   len                     25193 non-null  float64\n",
      " 7   wid                     25193 non-null  int64  \n",
      " 8   no_counties             25193 non-null  int64  \n",
      " 9   track_pop               25193 non-null  float64\n",
      " 10  track_area              25193 non-null  float64\n",
      " 11  track_pop_den           25135 non-null  float64\n",
      " 12  USD_prop_dam            25193 non-null  int64  \n",
      " 13  hour                    25193 non-null  int64  \n",
      " 14  start_lat               25193 non-null  float64\n",
      " 15  start_lon               25193 non-null  float64\n",
      " 16  deaths                  25193 non-null  float64\n",
      " 17  harm                    25193 non-null  float64\n",
      " 18  wet_or_dry_yr_Dry       25193 non-null  int64  \n",
      " 19  wet_or_dry_yr_Normal    25193 non-null  int64  \n",
      " 20  wet_or_dry_yr_Wet       25193 non-null  int64  \n",
      " 21  precip_class_Dry        25193 non-null  int64  \n",
      " 22  precip_class_Normal     25193 non-null  int64  \n",
      " 23  precip_class_Wet        25193 non-null  int64  \n",
      " 24  warm_or_cool_yr_Normal  25193 non-null  int64  \n",
      " 25  temp_class_Cool         25193 non-null  int64  \n",
      " 26  temp_class_Normal       25193 non-null  int64  \n",
      " 27  temp_class_Warm         25193 non-null  int64  \n",
      "dtypes: float64(8), int64(20)\n",
      "memory usage: 5.4 MB\n",
      "None\n"
     ]
    }
   ],
   "source": [
    "df = pd.read_csv('D:/Springboard/Second_Capstone/raw_data/Preprocessed_Data.csv')\n",
    "df.head()\n",
    "print(df.info())"
   ]
  },
  {
   "cell_type": "code",
   "execution_count": 37,
   "metadata": {},
   "outputs": [
    {
     "data": {
      "text/plain": [
       "0.0    21017\n",
       "1.0     4176\n",
       "Name: harm, dtype: int64"
      ]
     },
     "execution_count": 37,
     "metadata": {},
     "output_type": "execute_result"
    }
   ],
   "source": [
    "df['deaths'].value_counts()\n",
    "df['harm'].value_counts()"
   ]
  },
  {
   "cell_type": "code",
   "execution_count": 38,
   "metadata": {
    "scrolled": true
   },
   "outputs": [
    {
     "data": {
      "text/html": [
       "<div>\n",
       "<style scoped>\n",
       "    .dataframe tbody tr th:only-of-type {\n",
       "        vertical-align: middle;\n",
       "    }\n",
       "\n",
       "    .dataframe tbody tr th {\n",
       "        vertical-align: top;\n",
       "    }\n",
       "\n",
       "    .dataframe thead th {\n",
       "        text-align: right;\n",
       "    }\n",
       "</style>\n",
       "<table border=\"1\" class=\"dataframe\">\n",
       "  <thead>\n",
       "    <tr style=\"text-align: right;\">\n",
       "      <th></th>\n",
       "      <th>yr</th>\n",
       "      <th>mo</th>\n",
       "      <th>mag</th>\n",
       "      <th>len</th>\n",
       "      <th>wid</th>\n",
       "      <th>no_counties</th>\n",
       "      <th>track_pop</th>\n",
       "      <th>track_area</th>\n",
       "      <th>track_pop_den</th>\n",
       "      <th>USD_prop_dam</th>\n",
       "      <th>hour</th>\n",
       "      <th>start_lat</th>\n",
       "      <th>start_lon</th>\n",
       "      <th>harm</th>\n",
       "    </tr>\n",
       "  </thead>\n",
       "  <tbody>\n",
       "    <tr>\n",
       "      <th>0</th>\n",
       "      <td>1951</td>\n",
       "      <td>1</td>\n",
       "      <td>3</td>\n",
       "      <td>16.8</td>\n",
       "      <td>317</td>\n",
       "      <td>2</td>\n",
       "      <td>159129.416</td>\n",
       "      <td>2026.64</td>\n",
       "      <td>99.9</td>\n",
       "      <td>500000</td>\n",
       "      <td>17</td>\n",
       "      <td>31.30</td>\n",
       "      <td>-92.47</td>\n",
       "      <td>1.0</td>\n",
       "    </tr>\n",
       "    <tr>\n",
       "      <th>1</th>\n",
       "      <td>1952</td>\n",
       "      <td>1</td>\n",
       "      <td>2</td>\n",
       "      <td>0.5</td>\n",
       "      <td>400</td>\n",
       "      <td>1</td>\n",
       "      <td>91016.814</td>\n",
       "      <td>1037.82</td>\n",
       "      <td>87.7</td>\n",
       "      <td>500000</td>\n",
       "      <td>19</td>\n",
       "      <td>41.60</td>\n",
       "      <td>-80.30</td>\n",
       "      <td>0.0</td>\n",
       "    </tr>\n",
       "    <tr>\n",
       "      <th>2</th>\n",
       "      <td>1953</td>\n",
       "      <td>1</td>\n",
       "      <td>2</td>\n",
       "      <td>4.5</td>\n",
       "      <td>100</td>\n",
       "      <td>1</td>\n",
       "      <td>8683.180</td>\n",
       "      <td>598.84</td>\n",
       "      <td>14.5</td>\n",
       "      <td>5000</td>\n",
       "      <td>20</td>\n",
       "      <td>33.83</td>\n",
       "      <td>-92.17</td>\n",
       "      <td>1.0</td>\n",
       "    </tr>\n",
       "    <tr>\n",
       "      <th>3</th>\n",
       "      <td>1956</td>\n",
       "      <td>1</td>\n",
       "      <td>3</td>\n",
       "      <td>23.0</td>\n",
       "      <td>150</td>\n",
       "      <td>2</td>\n",
       "      <td>193736.975</td>\n",
       "      <td>1706.48</td>\n",
       "      <td>174.8</td>\n",
       "      <td>50000</td>\n",
       "      <td>21</td>\n",
       "      <td>35.20</td>\n",
       "      <td>-92.45</td>\n",
       "      <td>1.0</td>\n",
       "    </tr>\n",
       "    <tr>\n",
       "      <th>4</th>\n",
       "      <td>1957</td>\n",
       "      <td>1</td>\n",
       "      <td>1</td>\n",
       "      <td>2.5</td>\n",
       "      <td>10</td>\n",
       "      <td>1</td>\n",
       "      <td>3374879.166</td>\n",
       "      <td>2126.98</td>\n",
       "      <td>1586.7</td>\n",
       "      <td>50000</td>\n",
       "      <td>13</td>\n",
       "      <td>21.52</td>\n",
       "      <td>-158.07</td>\n",
       "      <td>0.0</td>\n",
       "    </tr>\n",
       "  </tbody>\n",
       "</table>\n",
       "</div>"
      ],
      "text/plain": [
       "     yr  mo  mag   len  wid  no_counties    track_pop  track_area  \\\n",
       "0  1951   1    3  16.8  317            2   159129.416     2026.64   \n",
       "1  1952   1    2   0.5  400            1    91016.814     1037.82   \n",
       "2  1953   1    2   4.5  100            1     8683.180      598.84   \n",
       "3  1956   1    3  23.0  150            2   193736.975     1706.48   \n",
       "4  1957   1    1   2.5   10            1  3374879.166     2126.98   \n",
       "\n",
       "   track_pop_den  USD_prop_dam  hour  start_lat  start_lon  harm  \n",
       "0           99.9        500000    17      31.30     -92.47   1.0  \n",
       "1           87.7        500000    19      41.60     -80.30   0.0  \n",
       "2           14.5          5000    20      33.83     -92.17   1.0  \n",
       "3          174.8         50000    21      35.20     -92.45   1.0  \n",
       "4         1586.7         50000    13      21.52    -158.07   0.0  "
      ]
     },
     "execution_count": 38,
     "metadata": {},
     "output_type": "execute_result"
    }
   ],
   "source": [
    "df.drop('Unnamed: 0', axis=1, inplace=True)\n",
    "df.drop('deaths', axis=1, inplace=True)\n",
    "df.drop('inj', axis=1, inplace=True)\n",
    "df.drop('fat', axis=1, inplace=True)\n",
    "df.drop('wet_or_dry_yr_Dry', axis=1, inplace=True)\n",
    "df.drop('wet_or_dry_yr_Normal', axis=1, inplace=True)\n",
    "df.drop('wet_or_dry_yr_Wet', axis=1, inplace=True)\n",
    "df.drop('precip_class_Dry', axis=1, inplace=True)\n",
    "df.drop('precip_class_Wet', axis=1, inplace=True)\n",
    "df.drop('precip_class_Normal', axis=1, inplace=True)\n",
    "df.drop('warm_or_cool_yr_Normal', axis=1, inplace=True)\n",
    "df.drop('temp_class_Cool', axis=1, inplace=True)\n",
    "df.drop('temp_class_Normal', axis=1, inplace=True)\n",
    "df.drop('temp_class_Warm', axis=1, inplace=True)\n",
    "\n",
    "df.head()"
   ]
  },
  {
   "cell_type": "code",
   "execution_count": 39,
   "metadata": {},
   "outputs": [],
   "source": [
    "def clean_dataset(df):\n",
    "    assert isinstance(df, pd.DataFrame), \"df needs to be a pd.DataFrame\"\n",
    "    df.dropna(inplace=True)\n",
    "    indices_to_keep = ~df.isin([np.nan, np.inf, -np.inf]).any(1)\n",
    "    return df[indices_to_keep].astype(np.float64)"
   ]
  },
  {
   "cell_type": "code",
   "execution_count": 40,
   "metadata": {},
   "outputs": [
    {
     "data": {
      "text/html": [
       "<div>\n",
       "<style scoped>\n",
       "    .dataframe tbody tr th:only-of-type {\n",
       "        vertical-align: middle;\n",
       "    }\n",
       "\n",
       "    .dataframe tbody tr th {\n",
       "        vertical-align: top;\n",
       "    }\n",
       "\n",
       "    .dataframe thead th {\n",
       "        text-align: right;\n",
       "    }\n",
       "</style>\n",
       "<table border=\"1\" class=\"dataframe\">\n",
       "  <thead>\n",
       "    <tr style=\"text-align: right;\">\n",
       "      <th></th>\n",
       "      <th>yr</th>\n",
       "      <th>mo</th>\n",
       "      <th>mag</th>\n",
       "      <th>len</th>\n",
       "      <th>wid</th>\n",
       "      <th>no_counties</th>\n",
       "      <th>track_pop</th>\n",
       "      <th>track_area</th>\n",
       "      <th>track_pop_den</th>\n",
       "      <th>USD_prop_dam</th>\n",
       "      <th>hour</th>\n",
       "      <th>start_lat</th>\n",
       "      <th>start_lon</th>\n",
       "      <th>harm</th>\n",
       "    </tr>\n",
       "  </thead>\n",
       "  <tbody>\n",
       "    <tr>\n",
       "      <th>0</th>\n",
       "      <td>1951.0</td>\n",
       "      <td>1.0</td>\n",
       "      <td>3.0</td>\n",
       "      <td>16.80</td>\n",
       "      <td>317.0</td>\n",
       "      <td>2.0</td>\n",
       "      <td>159129.416</td>\n",
       "      <td>2026.64</td>\n",
       "      <td>99.9</td>\n",
       "      <td>500000.0</td>\n",
       "      <td>17.0</td>\n",
       "      <td>31.3000</td>\n",
       "      <td>-92.4700</td>\n",
       "      <td>1.0</td>\n",
       "    </tr>\n",
       "    <tr>\n",
       "      <th>1</th>\n",
       "      <td>1952.0</td>\n",
       "      <td>1.0</td>\n",
       "      <td>2.0</td>\n",
       "      <td>0.50</td>\n",
       "      <td>400.0</td>\n",
       "      <td>1.0</td>\n",
       "      <td>91016.814</td>\n",
       "      <td>1037.82</td>\n",
       "      <td>87.7</td>\n",
       "      <td>500000.0</td>\n",
       "      <td>19.0</td>\n",
       "      <td>41.6000</td>\n",
       "      <td>-80.3000</td>\n",
       "      <td>0.0</td>\n",
       "    </tr>\n",
       "    <tr>\n",
       "      <th>2</th>\n",
       "      <td>1953.0</td>\n",
       "      <td>1.0</td>\n",
       "      <td>2.0</td>\n",
       "      <td>4.50</td>\n",
       "      <td>100.0</td>\n",
       "      <td>1.0</td>\n",
       "      <td>8683.180</td>\n",
       "      <td>598.84</td>\n",
       "      <td>14.5</td>\n",
       "      <td>5000.0</td>\n",
       "      <td>20.0</td>\n",
       "      <td>33.8300</td>\n",
       "      <td>-92.1700</td>\n",
       "      <td>1.0</td>\n",
       "    </tr>\n",
       "    <tr>\n",
       "      <th>3</th>\n",
       "      <td>1956.0</td>\n",
       "      <td>1.0</td>\n",
       "      <td>3.0</td>\n",
       "      <td>23.00</td>\n",
       "      <td>150.0</td>\n",
       "      <td>2.0</td>\n",
       "      <td>193736.975</td>\n",
       "      <td>1706.48</td>\n",
       "      <td>174.8</td>\n",
       "      <td>50000.0</td>\n",
       "      <td>21.0</td>\n",
       "      <td>35.2000</td>\n",
       "      <td>-92.4500</td>\n",
       "      <td>1.0</td>\n",
       "    </tr>\n",
       "    <tr>\n",
       "      <th>4</th>\n",
       "      <td>1957.0</td>\n",
       "      <td>1.0</td>\n",
       "      <td>1.0</td>\n",
       "      <td>2.50</td>\n",
       "      <td>10.0</td>\n",
       "      <td>1.0</td>\n",
       "      <td>3374879.166</td>\n",
       "      <td>2126.98</td>\n",
       "      <td>1586.7</td>\n",
       "      <td>50000.0</td>\n",
       "      <td>13.0</td>\n",
       "      <td>21.5200</td>\n",
       "      <td>-158.0700</td>\n",
       "      <td>0.0</td>\n",
       "    </tr>\n",
       "    <tr>\n",
       "      <th>...</th>\n",
       "      <td>...</td>\n",
       "      <td>...</td>\n",
       "      <td>...</td>\n",
       "      <td>...</td>\n",
       "      <td>...</td>\n",
       "      <td>...</td>\n",
       "      <td>...</td>\n",
       "      <td>...</td>\n",
       "      <td>...</td>\n",
       "      <td>...</td>\n",
       "      <td>...</td>\n",
       "      <td>...</td>\n",
       "      <td>...</td>\n",
       "      <td>...</td>\n",
       "    </tr>\n",
       "    <tr>\n",
       "      <th>25188</th>\n",
       "      <td>2019.0</td>\n",
       "      <td>12.0</td>\n",
       "      <td>1.0</td>\n",
       "      <td>4.79</td>\n",
       "      <td>100.0</td>\n",
       "      <td>1.0</td>\n",
       "      <td>48427.632</td>\n",
       "      <td>1407.78</td>\n",
       "      <td>34.4</td>\n",
       "      <td>50000000.0</td>\n",
       "      <td>17.0</td>\n",
       "      <td>34.5798</td>\n",
       "      <td>-103.3425</td>\n",
       "      <td>0.0</td>\n",
       "    </tr>\n",
       "    <tr>\n",
       "      <th>25189</th>\n",
       "      <td>2019.0</td>\n",
       "      <td>12.0</td>\n",
       "      <td>1.0</td>\n",
       "      <td>1.20</td>\n",
       "      <td>160.0</td>\n",
       "      <td>2.0</td>\n",
       "      <td>698048.006</td>\n",
       "      <td>1178.06</td>\n",
       "      <td>1058.1</td>\n",
       "      <td>50000000.0</td>\n",
       "      <td>15.0</td>\n",
       "      <td>36.0121</td>\n",
       "      <td>-95.7647</td>\n",
       "      <td>0.0</td>\n",
       "    </tr>\n",
       "    <tr>\n",
       "      <th>25190</th>\n",
       "      <td>2019.0</td>\n",
       "      <td>12.0</td>\n",
       "      <td>1.0</td>\n",
       "      <td>6.60</td>\n",
       "      <td>500.0</td>\n",
       "      <td>1.0</td>\n",
       "      <td>19608.190</td>\n",
       "      <td>737.15</td>\n",
       "      <td>26.6</td>\n",
       "      <td>50000000.0</td>\n",
       "      <td>15.0</td>\n",
       "      <td>33.0978</td>\n",
       "      <td>-89.5429</td>\n",
       "      <td>0.0</td>\n",
       "    </tr>\n",
       "    <tr>\n",
       "      <th>25191</th>\n",
       "      <td>2019.0</td>\n",
       "      <td>12.0</td>\n",
       "      <td>1.0</td>\n",
       "      <td>7.70</td>\n",
       "      <td>900.0</td>\n",
       "      <td>1.0</td>\n",
       "      <td>19608.190</td>\n",
       "      <td>737.15</td>\n",
       "      <td>26.6</td>\n",
       "      <td>50000000.0</td>\n",
       "      <td>16.0</td>\n",
       "      <td>33.1628</td>\n",
       "      <td>-89.4323</td>\n",
       "      <td>0.0</td>\n",
       "    </tr>\n",
       "    <tr>\n",
       "      <th>25192</th>\n",
       "      <td>2019.0</td>\n",
       "      <td>12.0</td>\n",
       "      <td>1.0</td>\n",
       "      <td>3.82</td>\n",
       "      <td>200.0</td>\n",
       "      <td>1.0</td>\n",
       "      <td>8564.736</td>\n",
       "      <td>419.84</td>\n",
       "      <td>20.4</td>\n",
       "      <td>50000000.0</td>\n",
       "      <td>16.0</td>\n",
       "      <td>33.2598</td>\n",
       "      <td>-89.2778</td>\n",
       "      <td>0.0</td>\n",
       "    </tr>\n",
       "  </tbody>\n",
       "</table>\n",
       "<p>25135 rows × 14 columns</p>\n",
       "</div>"
      ],
      "text/plain": [
       "           yr    mo  mag    len    wid  no_counties    track_pop  track_area  \\\n",
       "0      1951.0   1.0  3.0  16.80  317.0          2.0   159129.416     2026.64   \n",
       "1      1952.0   1.0  2.0   0.50  400.0          1.0    91016.814     1037.82   \n",
       "2      1953.0   1.0  2.0   4.50  100.0          1.0     8683.180      598.84   \n",
       "3      1956.0   1.0  3.0  23.00  150.0          2.0   193736.975     1706.48   \n",
       "4      1957.0   1.0  1.0   2.50   10.0          1.0  3374879.166     2126.98   \n",
       "...       ...   ...  ...    ...    ...          ...          ...         ...   \n",
       "25188  2019.0  12.0  1.0   4.79  100.0          1.0    48427.632     1407.78   \n",
       "25189  2019.0  12.0  1.0   1.20  160.0          2.0   698048.006     1178.06   \n",
       "25190  2019.0  12.0  1.0   6.60  500.0          1.0    19608.190      737.15   \n",
       "25191  2019.0  12.0  1.0   7.70  900.0          1.0    19608.190      737.15   \n",
       "25192  2019.0  12.0  1.0   3.82  200.0          1.0     8564.736      419.84   \n",
       "\n",
       "       track_pop_den  USD_prop_dam  hour  start_lat  start_lon  harm  \n",
       "0               99.9      500000.0  17.0    31.3000   -92.4700   1.0  \n",
       "1               87.7      500000.0  19.0    41.6000   -80.3000   0.0  \n",
       "2               14.5        5000.0  20.0    33.8300   -92.1700   1.0  \n",
       "3              174.8       50000.0  21.0    35.2000   -92.4500   1.0  \n",
       "4             1586.7       50000.0  13.0    21.5200  -158.0700   0.0  \n",
       "...              ...           ...   ...        ...        ...   ...  \n",
       "25188           34.4    50000000.0  17.0    34.5798  -103.3425   0.0  \n",
       "25189         1058.1    50000000.0  15.0    36.0121   -95.7647   0.0  \n",
       "25190           26.6    50000000.0  15.0    33.0978   -89.5429   0.0  \n",
       "25191           26.6    50000000.0  16.0    33.1628   -89.4323   0.0  \n",
       "25192           20.4    50000000.0  16.0    33.2598   -89.2778   0.0  \n",
       "\n",
       "[25135 rows x 14 columns]"
      ]
     },
     "execution_count": 40,
     "metadata": {},
     "output_type": "execute_result"
    }
   ],
   "source": [
    "clean_dataset(df)"
   ]
  },
  {
   "cell_type": "code",
   "execution_count": 41,
   "metadata": {},
   "outputs": [],
   "source": [
    "df = df[[c for c in df if c not in ['harm']] + ['harm']]"
   ]
  },
  {
   "cell_type": "code",
   "execution_count": 42,
   "metadata": {},
   "outputs": [
    {
     "data": {
      "text/html": [
       "<div>\n",
       "<style scoped>\n",
       "    .dataframe tbody tr th:only-of-type {\n",
       "        vertical-align: middle;\n",
       "    }\n",
       "\n",
       "    .dataframe tbody tr th {\n",
       "        vertical-align: top;\n",
       "    }\n",
       "\n",
       "    .dataframe thead th {\n",
       "        text-align: right;\n",
       "    }\n",
       "</style>\n",
       "<table border=\"1\" class=\"dataframe\">\n",
       "  <thead>\n",
       "    <tr style=\"text-align: right;\">\n",
       "      <th></th>\n",
       "      <th>yr</th>\n",
       "      <th>mo</th>\n",
       "      <th>mag</th>\n",
       "      <th>len</th>\n",
       "      <th>wid</th>\n",
       "      <th>no_counties</th>\n",
       "      <th>track_pop</th>\n",
       "      <th>track_area</th>\n",
       "      <th>track_pop_den</th>\n",
       "      <th>USD_prop_dam</th>\n",
       "      <th>hour</th>\n",
       "      <th>start_lat</th>\n",
       "      <th>start_lon</th>\n",
       "      <th>harm</th>\n",
       "    </tr>\n",
       "  </thead>\n",
       "  <tbody>\n",
       "    <tr>\n",
       "      <th>0</th>\n",
       "      <td>1951</td>\n",
       "      <td>1</td>\n",
       "      <td>3</td>\n",
       "      <td>16.8</td>\n",
       "      <td>317</td>\n",
       "      <td>2</td>\n",
       "      <td>159129.416</td>\n",
       "      <td>2026.64</td>\n",
       "      <td>99.9</td>\n",
       "      <td>500000</td>\n",
       "      <td>17</td>\n",
       "      <td>31.30</td>\n",
       "      <td>-92.47</td>\n",
       "      <td>1.0</td>\n",
       "    </tr>\n",
       "    <tr>\n",
       "      <th>1</th>\n",
       "      <td>1952</td>\n",
       "      <td>1</td>\n",
       "      <td>2</td>\n",
       "      <td>0.5</td>\n",
       "      <td>400</td>\n",
       "      <td>1</td>\n",
       "      <td>91016.814</td>\n",
       "      <td>1037.82</td>\n",
       "      <td>87.7</td>\n",
       "      <td>500000</td>\n",
       "      <td>19</td>\n",
       "      <td>41.60</td>\n",
       "      <td>-80.30</td>\n",
       "      <td>0.0</td>\n",
       "    </tr>\n",
       "    <tr>\n",
       "      <th>2</th>\n",
       "      <td>1953</td>\n",
       "      <td>1</td>\n",
       "      <td>2</td>\n",
       "      <td>4.5</td>\n",
       "      <td>100</td>\n",
       "      <td>1</td>\n",
       "      <td>8683.180</td>\n",
       "      <td>598.84</td>\n",
       "      <td>14.5</td>\n",
       "      <td>5000</td>\n",
       "      <td>20</td>\n",
       "      <td>33.83</td>\n",
       "      <td>-92.17</td>\n",
       "      <td>1.0</td>\n",
       "    </tr>\n",
       "    <tr>\n",
       "      <th>3</th>\n",
       "      <td>1956</td>\n",
       "      <td>1</td>\n",
       "      <td>3</td>\n",
       "      <td>23.0</td>\n",
       "      <td>150</td>\n",
       "      <td>2</td>\n",
       "      <td>193736.975</td>\n",
       "      <td>1706.48</td>\n",
       "      <td>174.8</td>\n",
       "      <td>50000</td>\n",
       "      <td>21</td>\n",
       "      <td>35.20</td>\n",
       "      <td>-92.45</td>\n",
       "      <td>1.0</td>\n",
       "    </tr>\n",
       "    <tr>\n",
       "      <th>4</th>\n",
       "      <td>1957</td>\n",
       "      <td>1</td>\n",
       "      <td>1</td>\n",
       "      <td>2.5</td>\n",
       "      <td>10</td>\n",
       "      <td>1</td>\n",
       "      <td>3374879.166</td>\n",
       "      <td>2126.98</td>\n",
       "      <td>1586.7</td>\n",
       "      <td>50000</td>\n",
       "      <td>13</td>\n",
       "      <td>21.52</td>\n",
       "      <td>-158.07</td>\n",
       "      <td>0.0</td>\n",
       "    </tr>\n",
       "  </tbody>\n",
       "</table>\n",
       "</div>"
      ],
      "text/plain": [
       "     yr  mo  mag   len  wid  no_counties    track_pop  track_area  \\\n",
       "0  1951   1    3  16.8  317            2   159129.416     2026.64   \n",
       "1  1952   1    2   0.5  400            1    91016.814     1037.82   \n",
       "2  1953   1    2   4.5  100            1     8683.180      598.84   \n",
       "3  1956   1    3  23.0  150            2   193736.975     1706.48   \n",
       "4  1957   1    1   2.5   10            1  3374879.166     2126.98   \n",
       "\n",
       "   track_pop_den  USD_prop_dam  hour  start_lat  start_lon  harm  \n",
       "0           99.9        500000    17      31.30     -92.47   1.0  \n",
       "1           87.7        500000    19      41.60     -80.30   0.0  \n",
       "2           14.5          5000    20      33.83     -92.17   1.0  \n",
       "3          174.8         50000    21      35.20     -92.45   1.0  \n",
       "4         1586.7         50000    13      21.52    -158.07   0.0  "
      ]
     },
     "execution_count": 42,
     "metadata": {},
     "output_type": "execute_result"
    }
   ],
   "source": [
    "#df.drop(['index'])\n",
    "df.head()"
   ]
  },
  {
   "cell_type": "code",
   "execution_count": 79,
   "metadata": {},
   "outputs": [
    {
     "name": "stdout",
     "output_type": "stream",
     "text": [
      "<class 'pandas.core.frame.DataFrame'>\n",
      "Int64Index: 25135 entries, 0 to 25192\n",
      "Data columns (total 14 columns):\n",
      " #   Column         Non-Null Count  Dtype  \n",
      "---  ------         --------------  -----  \n",
      " 0   yr             25135 non-null  int64  \n",
      " 1   mo             25135 non-null  int64  \n",
      " 2   mag            25135 non-null  int64  \n",
      " 3   len            25135 non-null  float64\n",
      " 4   wid            25135 non-null  int64  \n",
      " 5   no_counties    25135 non-null  int64  \n",
      " 6   track_pop      25135 non-null  float64\n",
      " 7   track_area     25135 non-null  float64\n",
      " 8   track_pop_den  25135 non-null  float64\n",
      " 9   USD_prop_dam   25135 non-null  int64  \n",
      " 10  hour           25135 non-null  int64  \n",
      " 11  start_lat      25135 non-null  float64\n",
      " 12  start_lon      25135 non-null  float64\n",
      " 13  harm           25135 non-null  float64\n",
      "dtypes: float64(7), int64(7)\n",
      "memory usage: 2.9 MB\n"
     ]
    }
   ],
   "source": [
    "df.info()"
   ]
  },
  {
   "cell_type": "markdown",
   "metadata": {},
   "source": [
    "Predictor variables and their explanations:\n",
    "- yr: The year in which the tornado occurred.\n",
    "- mo: The month in which the tornado occurred.  \n",
    "- mag: The magnitude of the tornado on the EF-scale. This ranges from 1-5, with 5 being the largest and most destructive.\n",
    "- len: The length of the tornado's on-ground track, measured in linear miles.\n",
    "- wid: The width of the tornado funnel, measured in linear yards.\n",
    "- no_counties: The number of counties through which the tornado traveled.  \n",
    "- track_pop: The total population for all counties in the tornado's track.\n",
    "- track_area: The total land-area for all counties in the tornado's track.\n",
    "- track_pop_den: The combined population density for all of the counties in the tornado's track.\n",
    "- USD_prop_dam: The rough US-dollar value of property damage caused by the tornado. This measure is tiered.  \n",
    "- hour: The hour of day in which the tornado first touched down. \n",
    "- start_lat: The latitude coordinate (in degrees) for the tornado's origination point.\n",
    "- start_lon: The longitude coordinate (in degrees) for the tornado's origination point.\n",
    "\n",
    "And finally, we have our variable to be predicted:\n",
    "- harm: An \"either/or\" combination of Injuries and Deaths. If a tornado caused either or both, it has a harm value of 1, otherwise its value is 0."
   ]
  },
  {
   "cell_type": "markdown",
   "metadata": {},
   "source": [
    "Next we must separate our predictor variables from our target variable, split the remaining data into our 'train' and 'test' datasets, and do some scaling to ensure that variable magnitude doesn't skew our results."
   ]
  },
  {
   "cell_type": "code",
   "execution_count": 80,
   "metadata": {},
   "outputs": [],
   "source": [
    "X = df.drop(['harm'], axis=1)\n",
    "y = df['harm']"
   ]
  },
  {
   "cell_type": "code",
   "execution_count": 44,
   "metadata": {},
   "outputs": [],
   "source": [
    "X_train, X_test, y_train, y_test = train_test_split(X, y, test_size = 0.2, random_state=42)"
   ]
  },
  {
   "cell_type": "code",
   "execution_count": 45,
   "metadata": {},
   "outputs": [],
   "source": [
    "scaler = StandardScaler()"
   ]
  },
  {
   "cell_type": "code",
   "execution_count": 46,
   "metadata": {},
   "outputs": [],
   "source": [
    "X_train = scaler.fit_transform(X_train)\n",
    "X_test = scaler.transform (X_test)"
   ]
  },
  {
   "cell_type": "markdown",
   "metadata": {},
   "source": [
    "## Model Deployment\n",
    "The problem we are modeling is a classification problem with labels, so we will deploy and compare the results for the following supervised learning models:\n",
    "\n",
    "- Logistic Regression\n",
    "- Decision Tree\n",
    "- K-Nearest Neighbor (KNN)\n",
    "- Support vector machine (SVM)\n",
    "- Random Forest\n",
    "- Gradient Boost\n",
    "\n",
    "Each of these model types have additional parameters that must be set (known as hyperparameters), and optimal values are not always intuitive. As such we will deploy Random Search CV to optimally tune these parameters. Research has shown that Random Search performs nearly as well as the more robust GridSearchCV while being far less resource-hungry. Since we have several different models to evaluate, we view this as a worthwhile tradeoff.\n",
    "\n",
    "Also, a note on how we will compare the models in terms of performance:\n",
    "The dataset we are using, with \"harm\" as the predicted variable, is very unbalanced. This means that the number of cases where harm occurred is only a small percentage of the overall number of tornado events (~17% to be precise). That means that a model designed to only choose \"no harm\" would be \"correct\" 83% of the time. As such, model accuracy, the most straightforward measure, is not an attractive option in this case. \n",
    "\n",
    "Instead we'll be using two other measures: **f1-score** and **Area under the ROC curve**.\n",
    "The f1-score is a weighted average of *precision* and *recall*, where precision is the ratio of True Positives to all positive predictions (TP+FP), and recall is the ratio of True Positives to the sum of True Positives and False Negatives. Recall is also known as sensitivity. f1-scores are useful in that they attempt to strike a balance between minimizing False Positives (in this case predicting harm when none occurred) and minimizing False Negatives (predicting no harm when harm occurred).\n",
    "\n",
    "The ROC curve is a plot of the True Positive Rate on the y-axis, and the False Positive Rate on the x-axis. Intuitively, this means a \"perfect\" model that never misclassifies will be a rectangle with points at (0,1) and (1,0). The area under this idealized curve is 1.0, or 100%. As such, we can use the area under our actual ROC curves to evaluate the effectiveness of our models, with AUC (area under curve) values indicating better performance as they increase toward 1.0."
   ]
  },
  {
   "cell_type": "markdown",
   "metadata": {},
   "source": [
    "## Logistic Regression\n",
    "\n",
    "Not much hyperparameter tuning is required, but two parameters are likely worth testing:\n",
    "\n",
    "- Penalty, which refers to the <i>type</i> of penalty levied on models for using too many parameters. (‘none’, ‘l1’, ‘l2’, ‘elasticnet’)\n",
    "- C, which represents the <i>strength</i> of penalty that gets applied. (100, 10, 1.0, 0.1, 0.01)\n",
    "\n",
    "We will tune these parameters using RandomSearchCV with 5 fold cross-validation (default)."
   ]
  },
  {
   "cell_type": "code",
   "execution_count": 47,
   "metadata": {},
   "outputs": [
    {
     "name": "stdout",
     "output_type": "stream",
     "text": [
      "{'penalty': 'l2', 'C': 1.0}\n",
      "0.38145064970453396\n"
     ]
    }
   ],
   "source": [
    "# Tuning penalty and C using RandomSearchCV\n",
    "\n",
    "model = LogisticRegression()\n",
    "\n",
    "penalty = ['none', 'l1', 'l2', 'elasticnet']\n",
    "c_values = [100, 10, 1.0, 0.1, 0.01]\n",
    "LR_params = dict(penalty=penalty,C=c_values)\n",
    "\n",
    "rand_search = RandomizedSearchCV(model, LR_params, n_iter=100, scoring='f1', n_jobs=-1, random_state=42)\n",
    "\n",
    "rand_result = rand_search.fit(X_train, y_train)\n",
    "print(rand_result.best_params_)\n",
    "print(rand_result.best_score_)\n"
   ]
  },
  {
   "cell_type": "code",
   "execution_count": 48,
   "metadata": {},
   "outputs": [],
   "source": [
    "# Fitting the Logistic Regression model to the training data using the optimal parameters found in the previous step\n",
    "LogReg = LogisticRegression(penalty = 'none', C = 100, random_state = 42)\n",
    "LogReg.fit(X_train,y_train)\n",
    "\n",
    "# Using model to predict on the test set\n",
    "y_pred_LR = LogReg.predict(X_test)"
   ]
  },
  {
   "cell_type": "code",
   "execution_count": 49,
   "metadata": {},
   "outputs": [
    {
     "name": "stdout",
     "output_type": "stream",
     "text": [
      "[[4058  113]\n",
      " [ 619  237]]\n",
      "The accuracy score for Logistic Regression is 0.8544\n",
      "The f1 score for Logistic Regression is 0.393\n",
      "The score for area under the ROC for Logistic Regression is 0.6249\n"
     ]
    }
   ],
   "source": [
    "conf_matrix = confusion_matrix(y_test,y_pred_LR)\n",
    "print(conf_matrix)\n",
    "\n",
    "LogReg_acc = accuracy_score(y_test, y_pred_LR)\n",
    "LogReg_f1=f1_score(y_test,y_pred_LR)\n",
    "LogReg_roc_auc = roc_auc_score(y_test, y_pred_LR)\n",
    "\n",
    "print('The accuracy score for Logistic Regression is '+ str(round(LogReg_acc, 4)))\n",
    "print('The f1 score for Logistic Regression is ' + str(round(LogReg_f1, 4)))\n",
    "print('The score for area under the ROC for Logistic Regression is ' + str(round(LogReg_roc_auc, 4)))"
   ]
  },
  {
   "cell_type": "markdown",
   "metadata": {},
   "source": [
    "## Decision Tree\n",
    "\n",
    "The two hyperparameters that we want to tune for our Decision Tree model are:\n",
    "\n",
    "- criterion, which refers to the measure used to choose one branch of the tree over another. Either entropy or gini.\n",
    "- max_depth, which limits the number of layers that the decision tree is allowed to create. Used to prevent overfitting.\n",
    "\n",
    "As before, we will tune these parameters using RandomSearchCV with 5 fold cross-validation (default)."
   ]
  },
  {
   "cell_type": "code",
   "execution_count": 50,
   "metadata": {},
   "outputs": [
    {
     "name": "stdout",
     "output_type": "stream",
     "text": [
      "{'max_depth': 6.0, 'criterion': 'gini'}\n",
      "0.8132926424004564\n"
     ]
    }
   ],
   "source": [
    "# Decision Tree\n",
    "model = DecisionTreeClassifier()\n",
    "\n",
    "criterion = ['gini', 'entropy']\n",
    "max_depth = np.linspace(1, 32, 32, endpoint=True)\n",
    "\n",
    "DT_params = dict(criterion=criterion,max_depth=max_depth)\n",
    "\n",
    "rand_search = RandomizedSearchCV(model, DT_params, n_iter=100, scoring='roc_auc', n_jobs=-1, random_state=42)\n",
    "\n",
    "rand_result = rand_search.fit(X_train, y_train)\n",
    "print(rand_result.best_params_)\n",
    "print(rand_result.best_score_)"
   ]
  },
  {
   "cell_type": "code",
   "execution_count": 51,
   "metadata": {},
   "outputs": [],
   "source": [
    "# Fitting the Decision Tree model to the training data using the optimal parameters found in the previous step\n",
    "DecTree = DecisionTreeClassifier(criterion = 'gini', max_depth = 6, random_state = 42)\n",
    "DecTree.fit(X_train,y_train)\n",
    "\n",
    "# Using model to predict on the test set\n",
    "y_pred_DT = DecTree.predict(X_test)"
   ]
  },
  {
   "cell_type": "code",
   "execution_count": 52,
   "metadata": {
    "scrolled": true
   },
   "outputs": [
    {
     "name": "stdout",
     "output_type": "stream",
     "text": [
      "[[4024  147]\n",
      " [ 579  277]]\n",
      "The accuracy score for Decision Tree is 0.8556\n",
      "The f1 score for Decision Tree is 0.4328\n",
      "The score for area under the ROC for Decision Tree is 0.6442\n"
     ]
    }
   ],
   "source": [
    "conf_matrix = confusion_matrix(y_test,y_pred_DT)\n",
    "print(conf_matrix)\n",
    "\n",
    "DecTree_acc = accuracy_score(y_test, y_pred_DT)\n",
    "DecTree_f1=f1_score(y_test,y_pred_DT)\n",
    "DecTree_roc_auc = roc_auc_score(y_test, y_pred_DT)\n",
    "\n",
    "print('The accuracy score for Decision Tree is '+ str(round(DecTree_acc, 4)))\n",
    "print('The f1 score for Decision Tree is ' + str(round(DecTree_f1, 4)))\n",
    "print('The score for area under the ROC for Decision Tree is ' + str(round(DecTree_roc_auc, 4)))"
   ]
  },
  {
   "cell_type": "markdown",
   "metadata": {},
   "source": [
    "## K-Nearest Neighbors\n",
    "\n",
    "The two hyperparameters that we want to tune for our KNN model are:\n",
    "\n",
    "- n_neighbors, which refers to the number of neighbors used to determine grouping behavior. We'll evaluate a range of 1-25.\n",
    "- metric, which is the method by which distance is calculated, either manhattan or euclidean. \n",
    "\n",
    "Again, we will tune these parameters using RandomSearchCV with 5 fold cross-validation (default)."
   ]
  },
  {
   "cell_type": "code",
   "execution_count": 53,
   "metadata": {},
   "outputs": [
    {
     "name": "stdout",
     "output_type": "stream",
     "text": [
      "{'n_neighbors': 24, 'metric': 'manhattan'}\n",
      "0.787553754507299\n"
     ]
    }
   ],
   "source": [
    "# K-Nearest-Neighbors\n",
    "model = KNeighborsClassifier()\n",
    "\n",
    "n_neighbors = list(range(1, 25))\n",
    "metric = ['manhattan', 'euclidean']\n",
    "\n",
    "KNN_params = dict(n_neighbors=n_neighbors,metric=metric)\n",
    "\n",
    "rand_search = RandomizedSearchCV(model, KNN_params, n_iter=100, scoring='roc_auc', n_jobs=-1, random_state=42)\n",
    "\n",
    "rand_result = rand_search.fit(X_train, y_train)\n",
    "print(rand_result.best_params_)\n",
    "print(rand_result.best_score_)"
   ]
  },
  {
   "cell_type": "code",
   "execution_count": 54,
   "metadata": {},
   "outputs": [],
   "source": [
    "# Fitting the K-Nearest-Neighbors model to the training data using the optimal parameters found in the previous step\n",
    "KNN = KNeighborsClassifier(n_neighbors = 24, metric='manhattan')\n",
    "KNN.fit(X_train,y_train)\n",
    "\n",
    "# Using model to predict on the test set\n",
    "y_pred_KN = KNN.predict(X_test)"
   ]
  },
  {
   "cell_type": "code",
   "execution_count": 55,
   "metadata": {},
   "outputs": [
    {
     "name": "stdout",
     "output_type": "stream",
     "text": [
      "[[4088   83]\n",
      " [ 658  198]]\n",
      "The accuracy score for K-Nearest-Neighbors is 0.8526\n",
      "The f1 score for K-Nearest-Neighbors is 0.3483\n",
      "The score for area under the ROC for K-Nearest-Neighbors is 0.6057\n"
     ]
    }
   ],
   "source": [
    "conf_matrix = confusion_matrix(y_test,y_pred_KN)\n",
    "print(conf_matrix)\n",
    "\n",
    "KNN_acc = accuracy_score(y_test, y_pred_KN)\n",
    "KNN_f1=f1_score(y_test,y_pred_KN)\n",
    "KNN_roc_auc = roc_auc_score(y_test, y_pred_KN)\n",
    "\n",
    "print('The accuracy score for K-Nearest-Neighbors is '+ str(round(KNN_acc, 4)))\n",
    "print('The f1 score for K-Nearest-Neighbors is ' + str(round(KNN_f1, 4)))\n",
    "print('The score for area under the ROC for K-Nearest-Neighbors is ' + str(round(KNN_roc_auc, 4)))"
   ]
  },
  {
   "cell_type": "markdown",
   "metadata": {},
   "source": [
    "## Support Vector Machines\n",
    "\n",
    "The two hyperparameters that we want to tune for our Decision Tree model are:\n",
    "\n",
    "- kernel, which refers to the feature space that will be used to create the decision boundaries. (linear, poly, rbf, sigmoid)\n",
    "- C, which represents the strength of penalty that gets applied for misclassified data points. (100, 10, 1.0, 0.1, 0.01)\n",
    "\n",
    "We will tune these parameters using RandomSearchCV with 5 fold cross-validation (default)."
   ]
  },
  {
   "cell_type": "code",
   "execution_count": 56,
   "metadata": {},
   "outputs": [
    {
     "name": "stdout",
     "output_type": "stream",
     "text": [
      "{'kernel': 'linear', 'C': 0.1}\n",
      "0.7837161612163961\n"
     ]
    }
   ],
   "source": [
    "# Support Vector Machines\n",
    "model = SVC()\n",
    "\n",
    "kernel = ['linear', 'poly', 'rbf', 'sigmoid']\n",
    "C = [100, 10, 1.0, 0.1, 0.001]\n",
    "\n",
    "SVM_params = dict(kernel=kernel, C=C)\n",
    "\n",
    "rand_search = RandomizedSearchCV(model, SVM_params, n_iter=100, scoring='roc_auc', n_jobs=-1, random_state=42)\n",
    "\n",
    "rand_result = rand_search.fit(X_train, y_train)\n",
    "print(rand_result.best_params_)\n",
    "print(rand_result.best_score_)"
   ]
  },
  {
   "cell_type": "code",
   "execution_count": 57,
   "metadata": {},
   "outputs": [],
   "source": [
    "# Fitting the Support Vector Machines SVC model to the training data using the optimal parameters found in the previous step\n",
    "SVM = SVC(kernel = 'linear', C = 0.1)\n",
    "SVM.fit(X_train,y_train)\n",
    "\n",
    "# Using model to predict on the test set\n",
    "y_pred_SVM = SVM.predict(X_test)"
   ]
  },
  {
   "cell_type": "code",
   "execution_count": 58,
   "metadata": {},
   "outputs": [
    {
     "name": "stdout",
     "output_type": "stream",
     "text": [
      "[[4159   12]\n",
      " [ 800   56]]\n",
      "The accuracy score for Support Vector Machines SVC is 0.8385\n",
      "The f1 score for Support Vector Machines SVC is 0.1212\n",
      "The score for area under the ROC for Support Vector Machines SVC is 0.5313\n"
     ]
    }
   ],
   "source": [
    "conf_matrix = confusion_matrix(y_test,y_pred_SVM)\n",
    "print(conf_matrix)\n",
    "\n",
    "SVM_acc = accuracy_score(y_test, y_pred_SVM)\n",
    "SVM_f1=f1_score(y_test,y_pred_SVM)\n",
    "SVM_roc_auc = roc_auc_score(y_test, y_pred_SVM)\n",
    "\n",
    "print('The accuracy score for Support Vector Machines SVC is '+ str(round(SVM_acc, 4)))\n",
    "print('The f1 score for Support Vector Machines SVC is ' + str(round(SVM_f1, 4)))\n",
    "print('The score for area under the ROC for Support Vector Machines SVC is ' + str(round(SVM_roc_auc, 4)))"
   ]
  },
  {
   "cell_type": "markdown",
   "metadata": {},
   "source": [
    "## Random Forest\n",
    "\n",
    "The three hyperparameters that we want to tune for our Random Forest model are:\n",
    "\n",
    "- max_features, which refers to the max number of features assigned to specific tree in the random forest. Range of 1-20. \n",
    "- max_depth, which limits the number of layers a particular tree can have in the random forest. Range of 2-9.\n",
    "- n_estimators, which represents the number of trees to be considered. (10, 100, 1000)\n",
    "\n",
    "We will tune these parameters using RandomSearchCV with 5 fold cross-validation (default)."
   ]
  },
  {
   "cell_type": "code",
   "execution_count": 59,
   "metadata": {},
   "outputs": [
    {
     "name": "stdout",
     "output_type": "stream",
     "text": [
      "{'n_estimators': 100, 'max_features': 3, 'max_depth': 8}\n",
      "0.8324504324508151\n"
     ]
    }
   ],
   "source": [
    "# Random Forest\n",
    "model = RandomForestClassifier()\n",
    "\n",
    "max_features = list(range(1, 20))\n",
    "max_depth = list(range(2, 9))\n",
    "n_estimators = [10, 100, 1000]\n",
    "\n",
    "RF_params = dict(max_features=max_features, n_estimators=n_estimators, max_depth=max_depth)\n",
    "\n",
    "rand_search = RandomizedSearchCV(model, RF_params, n_iter=50, scoring='roc_auc', n_jobs=-1, random_state=42)\n",
    "\n",
    "rand_result = rand_search.fit(X_train, y_train)\n",
    "print(rand_result.best_params_)\n",
    "print(rand_result.best_score_)"
   ]
  },
  {
   "cell_type": "code",
   "execution_count": 64,
   "metadata": {},
   "outputs": [],
   "source": [
    "# Fitting the Random Forest model to the training data using the optimal parameters found in the previous step\n",
    "RF = RandomForestClassifier(max_features = 3, n_estimators = 100, max_depth=8)\n",
    "RF.fit(X_train,y_train)\n",
    "\n",
    "# Using model to predict on the test set\n",
    "y_pred_RF = RF.predict(X_test)"
   ]
  },
  {
   "cell_type": "code",
   "execution_count": 65,
   "metadata": {},
   "outputs": [
    {
     "name": "stdout",
     "output_type": "stream",
     "text": [
      "[[4077   94]\n",
      " [ 613  243]]\n",
      "The accuracy score for Random Forest is 0.8594\n",
      "The f1 score for Random Forest is 0.4074\n",
      "The score for area under the ROC for Random Forest is 0.6307\n"
     ]
    }
   ],
   "source": [
    "conf_matrix = confusion_matrix(y_test,y_pred_RF)\n",
    "print(conf_matrix)\n",
    "\n",
    "RF_acc = accuracy_score(y_test, y_pred_RF)\n",
    "RF_f1=f1_score(y_test,y_pred_RF)\n",
    "RF_roc_auc = roc_auc_score(y_test, y_pred_RF)\n",
    "\n",
    "print('The accuracy score for Random Forest is '+ str(round(RF_acc, 4)))\n",
    "print('The f1 score for Random Forest is ' + str(round(RF_f1, 4)))\n",
    "print('The score for area under the ROC for Random Forest is ' + str(round(RF_roc_auc, 4)))"
   ]
  },
  {
   "cell_type": "markdown",
   "metadata": {},
   "source": [
    "## Gradient Boosting\n",
    "\n",
    "The four hyperparameters that we want to tune for our Gradient Boosting model are:\n",
    "\n",
    "- learning_rate, which determines the impact of each tree on the final outcome. (0.001, 0.01, 0.1)\n",
    "- subsample, which represents the fraction of observations to be selected for each tree. (0.5, 0.7, 1.0)\n",
    "- n_estimators, which represents the number of trees to be considered. (10, 100, 1000)\n",
    "- max_depth, which limits the number of layers a particular tree can have in the random forest. (3, 7, or 9)\n",
    "\n",
    "We will tune these parameters using RandomSearchCV with 5 fold cross-validation (default)."
   ]
  },
  {
   "cell_type": "code",
   "execution_count": 66,
   "metadata": {},
   "outputs": [
    {
     "name": "stdout",
     "output_type": "stream",
     "text": [
      "{'n_estimators': 100, 'max_features': 13}\n",
      "0.8331818385897153\n"
     ]
    }
   ],
   "source": [
    "# Gradient Boosting\n",
    "model = GradientBoostingClassifier()\n",
    "\n",
    "learning_rate = [0.001, 0.01, 0.1]\n",
    "n_estimators = [10, 100, 1000]\n",
    "subsample = [0.5, 0.7, 1.0]\n",
    "max_depth = [3, 7, 9]\n",
    "\n",
    "GB_params = dict(max_features=max_features, n_estimators=n_estimators)\n",
    "\n",
    "rand_search = RandomizedSearchCV(model, GB_params, n_iter=50, scoring='roc_auc', n_jobs=-1, random_state=42)\n",
    "\n",
    "rand_result = rand_search.fit(X_train, y_train)\n",
    "print(rand_result.best_params_)\n",
    "print(rand_result.best_score_)"
   ]
  },
  {
   "cell_type": "code",
   "execution_count": 67,
   "metadata": {},
   "outputs": [],
   "source": [
    "# Fitting the Gradient Boosting model to the training data using the optimal parameters found in the previous step\n",
    "GB = GradientBoostingClassifier(n_estimators=100, max_features=13)\n",
    "GB.fit(X_train,y_train)\n",
    "\n",
    "# Using model to predict on the test set\n",
    "y_pred_GB = GB.predict(X_test)"
   ]
  },
  {
   "cell_type": "code",
   "execution_count": 68,
   "metadata": {},
   "outputs": [
    {
     "name": "stdout",
     "output_type": "stream",
     "text": [
      "[[4032  139]\n",
      " [ 556  300]]\n",
      "The accuracy score for Gradient Boosting is 0.8544\n",
      "The f1 score for Gradient Boosting is 0.4633\n",
      "The score for area under the ROC for Gradient Boosting is 0.6586\n"
     ]
    }
   ],
   "source": [
    "conf_matrix = confusion_matrix(y_test,y_pred_GB)\n",
    "print(conf_matrix)\n",
    "\n",
    "GB_acc = accuracy_score(y_test, y_pred_GB)\n",
    "GB_f1=f1_score(y_test,y_pred_GB)\n",
    "GB_roc_auc = roc_auc_score(y_test, y_pred_GB)\n",
    "\n",
    "print('The accuracy score for Gradient Boosting is '+ str(round(LogReg_acc, 4)))\n",
    "print('The f1 score for Gradient Boosting is ' + str(round(GB_f1, 4)))\n",
    "print('The score for area under the ROC for Gradient Boosting is ' + str(round(GB_roc_auc, 4)))"
   ]
  },
  {
   "cell_type": "markdown",
   "metadata": {},
   "source": [
    "## Model Comparison"
   ]
  },
  {
   "cell_type": "code",
   "execution_count": 69,
   "metadata": {},
   "outputs": [
    {
     "data": {
      "text/html": [
       "<div>\n",
       "<style scoped>\n",
       "    .dataframe tbody tr th:only-of-type {\n",
       "        vertical-align: middle;\n",
       "    }\n",
       "\n",
       "    .dataframe tbody tr th {\n",
       "        vertical-align: top;\n",
       "    }\n",
       "\n",
       "    .dataframe thead th {\n",
       "        text-align: right;\n",
       "    }\n",
       "</style>\n",
       "<table border=\"1\" class=\"dataframe\">\n",
       "  <thead>\n",
       "    <tr style=\"text-align: right;\">\n",
       "      <th></th>\n",
       "      <th>Algorithm</th>\n",
       "      <th>f1 Score</th>\n",
       "      <th>ROC-AUC score</th>\n",
       "    </tr>\n",
       "  </thead>\n",
       "  <tbody>\n",
       "    <tr>\n",
       "      <th>0</th>\n",
       "      <td>Logistic Regression</td>\n",
       "      <td>0.393035</td>\n",
       "      <td>0.624889</td>\n",
       "    </tr>\n",
       "    <tr>\n",
       "      <th>1</th>\n",
       "      <td>Decision Tree</td>\n",
       "      <td>0.432812</td>\n",
       "      <td>0.644177</td>\n",
       "    </tr>\n",
       "    <tr>\n",
       "      <th>2</th>\n",
       "      <td>KNN</td>\n",
       "      <td>0.348285</td>\n",
       "      <td>0.605705</td>\n",
       "    </tr>\n",
       "    <tr>\n",
       "      <th>3</th>\n",
       "      <td>SVM</td>\n",
       "      <td>0.121212</td>\n",
       "      <td>0.531272</td>\n",
       "    </tr>\n",
       "    <tr>\n",
       "      <th>4</th>\n",
       "      <td>Random Forest</td>\n",
       "      <td>0.407376</td>\n",
       "      <td>0.630671</td>\n",
       "    </tr>\n",
       "    <tr>\n",
       "      <th>5</th>\n",
       "      <td>Gradient Boost</td>\n",
       "      <td>0.463320</td>\n",
       "      <td>0.658571</td>\n",
       "    </tr>\n",
       "  </tbody>\n",
       "</table>\n",
       "</div>"
      ],
      "text/plain": [
       "             Algorithm  f1 Score  ROC-AUC score\n",
       "0  Logistic Regression  0.393035       0.624889\n",
       "1        Decision Tree  0.432812       0.644177\n",
       "2                  KNN  0.348285       0.605705\n",
       "3                  SVM  0.121212       0.531272\n",
       "4        Random Forest  0.407376       0.630671\n",
       "5       Gradient Boost  0.463320       0.658571"
      ]
     },
     "execution_count": 69,
     "metadata": {},
     "output_type": "execute_result"
    }
   ],
   "source": [
    "model_Labels = ['Logistic Regression','Decision Tree', 'KNN','SVM', 'Random Forest', 'Gradient Boost']\n",
    "f1_scores= [LogReg_f1, DecTree_f1, KNN_f1, SVM_f1, RF_f1, GB_f1]\n",
    "ROC_Area = [LogReg_roc_auc, DecTree_roc_auc, KNN_roc_auc, SVM_roc_auc, RF_roc_auc, GB_roc_auc]\n",
    "\n",
    "score_tab = pd.DataFrame(list(zip(model_Labels, f1_scores, ROC_Area)), \n",
    "               columns =['Algorithm', 'f1 Score', 'ROC-AUC score' ]) \n",
    "\n",
    "score_tab"
   ]
  },
  {
   "cell_type": "code",
   "execution_count": 78,
   "metadata": {},
   "outputs": [
    {
     "data": {
      "image/png": "[encoded data removed]",
      "text/plain": [
       "<Figure size 720x360 with 1 Axes>"
      ]
     },
     "metadata": {
      "needs_background": "light"
     },
     "output_type": "display_data"
    }
   ],
   "source": [
    "#plotting and comparing ROC-AUC train/test scores:\n",
    "\n",
    "index=[1,2,3,4,5,6]\n",
    "index_acc=[1.2,2.2,3.2,4.2,5.2,6.2]\n",
    "plt.figure(figsize=(10,5))\n",
    "plt.xlabel('Models',fontsize=15)\n",
    "plt.ylabel ('Accuracy Scores',fontsize=15)\n",
    "plt.title('Machine Learning Model Comparison',fontsize=15)\n",
    "_=plt.bar(index,f1_scores,color='b',alpha=0.6,label='f1 Score',edgecolor='k',width=0.2)\n",
    "_=plt.bar(index_acc, ROC_Area,color='cyan',alpha=0.8,label='ROC AUC',edgecolor='k',width=0.2)\n",
    "plt.xticks([1,2,3,4,5,6], model_Labels)\n",
    "plt.legend()\n",
    "plt.show()"
   ]
  },
  {
   "cell_type": "markdown",
   "metadata": {},
   "source": [
    "With an f1 score of 0.4633, and an area under the ROC of 0.6586, our Gradient Boosting model is the most accurate.\n",
    "\n",
    "We will now take a more focused look at this model and its results in order to determine which features were the most predictive, among other insights."
   ]
  },
  {
   "cell_type": "markdown",
   "metadata": {},
   "source": [
    "## Feature Importances"
   ]
  },
  {
   "cell_type": "code",
   "execution_count": 74,
   "metadata": {},
   "outputs": [
    {
     "name": "stdout",
     "output_type": "stream",
     "text": [
      "         Features  Importance scores\n",
      "0              yr           0.002837\n",
      "1              mo           0.004411\n",
      "2             mag           0.005986\n",
      "3             len           0.009100\n",
      "4             wid           0.010861\n",
      "5     no_counties           0.022192\n",
      "6       track_pop           0.028491\n",
      "7      track_area           0.049473\n",
      "8   track_pop_den           0.053607\n",
      "9    USD_prop_dam           0.055809\n",
      "10           hour           0.086148\n",
      "11      start_lat           0.120753\n",
      "12      start_lon           0.550331\n"
     ]
    },
    {
     "data": {
      "image/png": "[encoded data removed]",
      "text/plain": [
       "<Figure size 720x360 with 1 Axes>"
      ]
     },
     "metadata": {
      "needs_background": "light"
     },
     "output_type": "display_data"
    }
   ],
   "source": [
    "#Feature importances:\n",
    "\n",
    "features = X\n",
    "importances = list(GB.feature_importances_)\n",
    "imp=np.sort(importances)\n",
    "tab=pd.DataFrame(list(zip(X,imp)),columns =['Features', 'Importance scores']) \n",
    "print(tab)\n",
    "\n",
    "#Visual comparison:\n",
    "plt.figure(figsize=(10,5))\n",
    "index = [0,1,2,3,4,5,6,7,8,9,10,11,12]\n",
    "_=plt.barh(index,imp, align='center',color='r')\n",
    "plt.xlabel('Relative Importance',fontsize=15)\n",
    "plt.ylabel('Features',fontsize=15)\n",
    "plt.yticks(index, features)\n",
    "plt.title('Feature Importances for Gradient Boosting classifier model',fontsize=15)\n",
    "plt.show()"
   ]
  },
  {
   "cell_type": "code",
   "execution_count": 76,
   "metadata": {},
   "outputs": [
    {
     "name": "stdout",
     "output_type": "stream",
     "text": [
      "ROC-AUC Score: 0.8368001017259807\n"
     ]
    }
   ],
   "source": [
    "y_scores_GB = GB.predict_proba(X_test)\n",
    "y_scores_GB = y_scores_GB[:,1]\n",
    "auroc = roc_auc_score(y_test, y_scores_GB)\n",
    "print(\"ROC-AUC Score:\", auroc)"
   ]
  },
  {
   "cell_type": "code",
   "execution_count": 77,
   "metadata": {},
   "outputs": [
    {
     "data": {
      "image/png": "[encoded data removed]",
      "text/plain": [
       "<Figure size 720x360 with 1 Axes>"
      ]
     },
     "metadata": {
      "needs_background": "light"
     },
     "output_type": "display_data"
    }
   ],
   "source": [
    "false_positive_rate, true_positive_rate, thresholds = roc_curve(y_test, y_scores_GB)\n",
    "def plot_roc_curve(false_positive_rate, true_positive_rate, label=None):\n",
    "    plt.plot(false_positive_rate, true_positive_rate, linewidth=2, label=label)\n",
    "    plt.plot([0, 1], [0, 1], 'r', linewidth=4)\n",
    "    plt.axis([0, 1, 0, 1])\n",
    "    plt.xlabel('False Positive Rate', fontsize=15)\n",
    "    plt.ylabel('True Positive Rate', fontsize=15)\n",
    "    plt.title('ROC curve (Gradient Boosting)',fontsize=15)\n",
    "\n",
    "plt.figure(figsize=(10, 5))\n",
    "plot_roc_curve(false_positive_rate, true_positive_rate)\n",
    "plt.show()"
   ]
  },
  {
   "cell_type": "markdown",
   "metadata": {},
   "source": [
    "## Results Interpretation\n",
    "According to the feature importances chart, starting longitude is the most predictive feature by a significant margin. This is perhaps a bit of an unexpected result, but when you consider the way population density tends to increase as you move from the Great Plains toward the East Coast, it begins to seem like a more meaningful outcome. Starting latitude is the second most significant feature, and again, if you think in terms of population density as you move South toward the Gulf Coast, it doesn't feel unreasonable.\n",
    "\n",
    "Next are hour and USD Property Damage. Both of these make sense, as tornadoes that strike in the middle of the night and tornadoes that cause higher levels of structural damage are both intuitively more likely to cause injuries and deaths.\n",
    "\n",
    "Perhaps surprising is the fact that tornado width, track length, and magnitude are fairly close to the bottom of the list of feature importances. But, when you consider that even a comparitively \"weak\" or \"small\" tornado still has more than enough power to destroy homes and other buildings, this begins to make sense as well."
   ]
  },
  {
   "cell_type": "markdown",
   "metadata": {},
   "source": [
    "## Conclusion and Next Steps\n",
    "\n",
    "Given the massive number of variables outside our scope of consideration that can go into determining loss of life in a tornado event, we feel positively about the results we achieved with our models, especially the Gradient Boosting model that achieved the highest f1-score and area under the ROC. \n",
    "\n",
    "We know, however, that there is still room for improvement. In the end, aside from county population density data, we only pressed forward with predictor variables present in the base dataset. As such, there are other variables to consider whose addition could yield an even more robust model.\n",
    "\n",
    "Some possibilities include:\n",
    "- Historical climate data by county: We attemped to include climate data to classify the month and year a tornado occurred in as wet/normal/dry and warm/normal/cool relative to historical climate data for its origination county, but in the end, we were unable to properly scale these values in a way that prevented them from being over-weighted in the models. This is an area where a few tweaks could potentially yield significant results.\n",
    "- Home Age data by county: We were able to find data that reasonably approximated this measure, but again, it didn't prove to be workable in its current form. Still, it would be interesting to see if improvements in building technology have resulted in any decrease in human toll caused by tornadoes.\n",
    "- Long-term weather patterns (e.g. El Niño/La Niña): Do years under a certain weather pattern result in more or deadlier tornadoes?\n",
    "- Prevalence of basements in homes: This might be a tricky measure to find, but homes closer to sea level tend to be built without basements, which removes one of the most effective sheltering options in the event of a tornado strike.\n",
    "\n"
   ]
  },
  {
   "cell_type": "code",
   "execution_count": null,
   "metadata": {},
   "outputs": [],
   "source": []
  }
 ],
 "metadata": {
  "kernelspec": {
   "display_name": "Python 3",
   "language": "python",
   "name": "python3"
  },
  "language_info": {
   "codemirror_mode": {
    "name": "ipython",
    "version": 3
   },
   "file_extension": ".py",
   "mimetype": "text/x-python",
   "name": "python",
   "nbconvert_exporter": "python",
   "pygments_lexer": "ipython3",
   "version": "3.8.5"
  }
 },
 "nbformat": 4,
 "nbformat_minor": 5
}
